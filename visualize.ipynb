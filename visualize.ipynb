{
  "cells": [
    {
      "cell_type": "code",
      "metadata": {},
      "source": [
        "import pandas as pd\n",
        "import plotly.offline as offline\n",
        "from utils import plot\n",
        "\n",
        "offline.init_notebook_mode()\n",
        "\n",
        "df = pd.read_csv(\"data/data.csv\", parse_dates=[\"date\"], index_col=0)\n"
      ],
      "outputs": [],
      "execution_count": null
    },
    {
      "cell_type": "code",
      "metadata": {},
      "source": [
        "_df = df[df[\"injected\"] > 0]\n",
        "plot(df=_df, title=\"\u533b\u7642\u5f93\u4e8b\u8005+\u9ad8\u9f62\u8005 \u7d2f\u8a08\u30ef\u30af\u30c1\u30f3\u6442\u53d6\u56de\u6570\", type=\"total\")"
      ],
      "outputs": [],
      "execution_count": null
    },
    {
      "cell_type": "code",
      "metadata": {},
      "source": [
        "_df = df[(df[\"injected_iryo\"] > 0) & (df[\"injected_korei\"] > 0)]\n",
        "plot(df=_df, title=\"\u533b\u7642\u5f93\u4e8b\u8005+\u9ad8\u9f62\u8005 \u65e5\u5225\u30ef\u30af\u30c1\u30f3\u6442\u53d6\u56de\u6570\uff08\u3069\u3061\u3089\u30820\u3067\u306a\u3044\u65e5\u306e\u307f\u8868\u793a\uff09\")\n",
        "# %%\n",
        "_df = df[df[\"injected_iryo\"] > 0]\n",
        "plot(df=_df, title=\"\u533b\u7642\u5f93\u4e8b\u8005 \u7d2f\u8a08\u30ef\u30af\u30c1\u30f3\u6442\u53d6\u56de\u6570\", type=\"total\", category=\"iryo\")"
      ],
      "outputs": [],
      "execution_count": null
    },
    {
      "cell_type": "code",
      "metadata": {},
      "source": [
        "plot(df=_df, title=\"\u533b\u7642\u5f93\u4e8b\u8005 \u65e5\u5225\u30ef\u30af\u30c1\u30f3\u6442\u53d6\u56de\u6570\", category=\"iryo\")"
      ],
      "outputs": [],
      "execution_count": null
    },
    {
      "cell_type": "code",
      "metadata": {},
      "source": [
        "_df = df[df[\"injected_korei\"] > 0]\n",
        "plot(df=_df, title=\"\u9ad8\u9f62\u8005 \u7d2f\u8a08\u30ef\u30af\u30c1\u30f3\u6442\u53d6\u56de\u6570\", type=\"total\", category=\"korei\")"
      ],
      "outputs": [],
      "execution_count": null
    },
    {
      "cell_type": "code",
      "metadata": {},
      "source": [
        "plot(df=_df, title=\"\u9ad8\u9f62\u8005 \u65e5\u5225\u30ef\u30af\u30c1\u30f3\u6442\u53d6\u56de\u6570\", category=\"korei\")\n"
      ],
      "outputs": [],
      "execution_count": null
    }
  ],
  "metadata": {
    "anaconda-cloud": {},
    "kernelspec": {
      "display_name": "Python 3",
      "language": "python",
      "name": "python3"
    },
    "language_info": {
      "codemirror_mode": {
        "name": "ipython",
        "version": 3
      },
      "file_extension": ".py",
      "mimetype": "text/x-python",
      "name": "python",
      "nbconvert_exporter": "python",
      "pygments_lexer": "ipython3",
      "version": "3.6.1"
    }
  },
  "nbformat": 4,
  "nbformat_minor": 4
}